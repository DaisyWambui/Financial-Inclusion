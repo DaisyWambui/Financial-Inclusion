{
 "cells": [
  {
   "cell_type": "markdown",
   "id": "c91fc5fa",
   "metadata": {},
   "source": [
    "**Project: Financial Inclusion in Africa**\n",
    "\n",
    "    \n",
    "**Tool to use;Python.**\n",
    "\n",
    "**Mission**:\n",
    "    \n",
    "To do an analysis of the financial inclusion in East Africa mainly through ownership of bank accounts.\n",
    "\n"
   ]
  },
  {
   "cell_type": "code",
   "execution_count": 1,
   "id": "16f59af1",
   "metadata": {},
   "outputs": [],
   "source": [
    "#Importing necessary libraries\n",
    "import numpy as np\n",
    "import pandas as pd\n",
    "import matplotlib.pyplot as plt\n",
    "import seaborn as sns\n",
    "\n",
    "%matplotlib inline"
   ]
  },
  {
   "cell_type": "code",
   "execution_count": 2,
   "id": "d58386bb",
   "metadata": {},
   "outputs": [
    {
     "data": {
      "text/html": [
       "<div>\n",
       "<style scoped>\n",
       "    .dataframe tbody tr th:only-of-type {\n",
       "        vertical-align: middle;\n",
       "    }\n",
       "\n",
       "    .dataframe tbody tr th {\n",
       "        vertical-align: top;\n",
       "    }\n",
       "\n",
       "    .dataframe thead th {\n",
       "        text-align: right;\n",
       "    }\n",
       "</style>\n",
       "<table border=\"1\" class=\"dataframe\">\n",
       "  <thead>\n",
       "    <tr style=\"text-align: right;\">\n",
       "      <th></th>\n",
       "      <th>country</th>\n",
       "      <th>year</th>\n",
       "      <th>uniqueid</th>\n",
       "      <th>bank_account</th>\n",
       "      <th>location_type</th>\n",
       "      <th>cellphone_access</th>\n",
       "      <th>household_size</th>\n",
       "      <th>age_of_respondent</th>\n",
       "      <th>gender_of_respondent</th>\n",
       "      <th>relationship_with_head</th>\n",
       "      <th>marital_status</th>\n",
       "      <th>education_level</th>\n",
       "      <th>job_type</th>\n",
       "    </tr>\n",
       "  </thead>\n",
       "  <tbody>\n",
       "    <tr>\n",
       "      <th>0</th>\n",
       "      <td>Kenya</td>\n",
       "      <td>2018</td>\n",
       "      <td>uniqueid_1</td>\n",
       "      <td>Yes</td>\n",
       "      <td>Rural</td>\n",
       "      <td>Yes</td>\n",
       "      <td>3</td>\n",
       "      <td>24</td>\n",
       "      <td>Female</td>\n",
       "      <td>Spouse</td>\n",
       "      <td>Married/Living together</td>\n",
       "      <td>Secondary education</td>\n",
       "      <td>Self employed</td>\n",
       "    </tr>\n",
       "    <tr>\n",
       "      <th>1</th>\n",
       "      <td>Kenya</td>\n",
       "      <td>2018</td>\n",
       "      <td>uniqueid_2</td>\n",
       "      <td>No</td>\n",
       "      <td>Rural</td>\n",
       "      <td>No</td>\n",
       "      <td>5</td>\n",
       "      <td>70</td>\n",
       "      <td>Female</td>\n",
       "      <td>Head of Household</td>\n",
       "      <td>Widowed</td>\n",
       "      <td>No formal education</td>\n",
       "      <td>Government Dependent</td>\n",
       "    </tr>\n",
       "    <tr>\n",
       "      <th>2</th>\n",
       "      <td>Kenya</td>\n",
       "      <td>2018</td>\n",
       "      <td>uniqueid_3</td>\n",
       "      <td>Yes</td>\n",
       "      <td>Urban</td>\n",
       "      <td>Yes</td>\n",
       "      <td>5</td>\n",
       "      <td>26</td>\n",
       "      <td>Male</td>\n",
       "      <td>Other relative</td>\n",
       "      <td>Single/Never Married</td>\n",
       "      <td>Vocational/Specialised training</td>\n",
       "      <td>Self employed</td>\n",
       "    </tr>\n",
       "    <tr>\n",
       "      <th>3</th>\n",
       "      <td>Kenya</td>\n",
       "      <td>2018</td>\n",
       "      <td>uniqueid_4</td>\n",
       "      <td>No</td>\n",
       "      <td>Rural</td>\n",
       "      <td>Yes</td>\n",
       "      <td>5</td>\n",
       "      <td>34</td>\n",
       "      <td>Female</td>\n",
       "      <td>Head of Household</td>\n",
       "      <td>Married/Living together</td>\n",
       "      <td>Primary education</td>\n",
       "      <td>Formally employed Private</td>\n",
       "    </tr>\n",
       "    <tr>\n",
       "      <th>4</th>\n",
       "      <td>Kenya</td>\n",
       "      <td>2018</td>\n",
       "      <td>uniqueid_5</td>\n",
       "      <td>No</td>\n",
       "      <td>Urban</td>\n",
       "      <td>No</td>\n",
       "      <td>8</td>\n",
       "      <td>26</td>\n",
       "      <td>Male</td>\n",
       "      <td>Child</td>\n",
       "      <td>Single/Never Married</td>\n",
       "      <td>Primary education</td>\n",
       "      <td>Informally employed</td>\n",
       "    </tr>\n",
       "    <tr>\n",
       "      <th>...</th>\n",
       "      <td>...</td>\n",
       "      <td>...</td>\n",
       "      <td>...</td>\n",
       "      <td>...</td>\n",
       "      <td>...</td>\n",
       "      <td>...</td>\n",
       "      <td>...</td>\n",
       "      <td>...</td>\n",
       "      <td>...</td>\n",
       "      <td>...</td>\n",
       "      <td>...</td>\n",
       "      <td>...</td>\n",
       "      <td>...</td>\n",
       "    </tr>\n",
       "    <tr>\n",
       "      <th>23519</th>\n",
       "      <td>Uganda</td>\n",
       "      <td>2018</td>\n",
       "      <td>uniqueid_2113</td>\n",
       "      <td>No</td>\n",
       "      <td>Rural</td>\n",
       "      <td>Yes</td>\n",
       "      <td>4</td>\n",
       "      <td>48</td>\n",
       "      <td>Female</td>\n",
       "      <td>Head of Household</td>\n",
       "      <td>Divorced/Seperated</td>\n",
       "      <td>No formal education</td>\n",
       "      <td>Other Income</td>\n",
       "    </tr>\n",
       "    <tr>\n",
       "      <th>23520</th>\n",
       "      <td>Uganda</td>\n",
       "      <td>2018</td>\n",
       "      <td>uniqueid_2114</td>\n",
       "      <td>No</td>\n",
       "      <td>Rural</td>\n",
       "      <td>Yes</td>\n",
       "      <td>2</td>\n",
       "      <td>27</td>\n",
       "      <td>Female</td>\n",
       "      <td>Head of Household</td>\n",
       "      <td>Single/Never Married</td>\n",
       "      <td>Secondary education</td>\n",
       "      <td>Other Income</td>\n",
       "    </tr>\n",
       "    <tr>\n",
       "      <th>23521</th>\n",
       "      <td>Uganda</td>\n",
       "      <td>2018</td>\n",
       "      <td>uniqueid_2115</td>\n",
       "      <td>No</td>\n",
       "      <td>Rural</td>\n",
       "      <td>Yes</td>\n",
       "      <td>5</td>\n",
       "      <td>27</td>\n",
       "      <td>Female</td>\n",
       "      <td>Parent</td>\n",
       "      <td>Widowed</td>\n",
       "      <td>Primary education</td>\n",
       "      <td>Other Income</td>\n",
       "    </tr>\n",
       "    <tr>\n",
       "      <th>23522</th>\n",
       "      <td>Uganda</td>\n",
       "      <td>2018</td>\n",
       "      <td>uniqueid_2116</td>\n",
       "      <td>No</td>\n",
       "      <td>Urban</td>\n",
       "      <td>Yes</td>\n",
       "      <td>7</td>\n",
       "      <td>30</td>\n",
       "      <td>Female</td>\n",
       "      <td>Parent</td>\n",
       "      <td>Divorced/Seperated</td>\n",
       "      <td>Secondary education</td>\n",
       "      <td>Self employed</td>\n",
       "    </tr>\n",
       "    <tr>\n",
       "      <th>23523</th>\n",
       "      <td>Uganda</td>\n",
       "      <td>2018</td>\n",
       "      <td>uniqueid_2117</td>\n",
       "      <td>No</td>\n",
       "      <td>Rural</td>\n",
       "      <td>Yes</td>\n",
       "      <td>10</td>\n",
       "      <td>20</td>\n",
       "      <td>Male</td>\n",
       "      <td>Child</td>\n",
       "      <td>Single/Never Married</td>\n",
       "      <td>Secondary education</td>\n",
       "      <td>No Income</td>\n",
       "    </tr>\n",
       "  </tbody>\n",
       "</table>\n",
       "<p>23524 rows × 13 columns</p>\n",
       "</div>"
      ],
      "text/plain": [
       "      country  year       uniqueid bank_account location_type  \\\n",
       "0       Kenya  2018     uniqueid_1          Yes         Rural   \n",
       "1       Kenya  2018     uniqueid_2           No         Rural   \n",
       "2       Kenya  2018     uniqueid_3          Yes         Urban   \n",
       "3       Kenya  2018     uniqueid_4           No         Rural   \n",
       "4       Kenya  2018     uniqueid_5           No         Urban   \n",
       "...       ...   ...            ...          ...           ...   \n",
       "23519  Uganda  2018  uniqueid_2113           No         Rural   \n",
       "23520  Uganda  2018  uniqueid_2114           No         Rural   \n",
       "23521  Uganda  2018  uniqueid_2115           No         Rural   \n",
       "23522  Uganda  2018  uniqueid_2116           No         Urban   \n",
       "23523  Uganda  2018  uniqueid_2117           No         Rural   \n",
       "\n",
       "      cellphone_access  household_size  age_of_respondent  \\\n",
       "0                  Yes               3                 24   \n",
       "1                   No               5                 70   \n",
       "2                  Yes               5                 26   \n",
       "3                  Yes               5                 34   \n",
       "4                   No               8                 26   \n",
       "...                ...             ...                ...   \n",
       "23519              Yes               4                 48   \n",
       "23520              Yes               2                 27   \n",
       "23521              Yes               5                 27   \n",
       "23522              Yes               7                 30   \n",
       "23523              Yes              10                 20   \n",
       "\n",
       "      gender_of_respondent relationship_with_head           marital_status  \\\n",
       "0                   Female                 Spouse  Married/Living together   \n",
       "1                   Female      Head of Household                  Widowed   \n",
       "2                     Male         Other relative     Single/Never Married   \n",
       "3                   Female      Head of Household  Married/Living together   \n",
       "4                     Male                  Child     Single/Never Married   \n",
       "...                    ...                    ...                      ...   \n",
       "23519               Female      Head of Household       Divorced/Seperated   \n",
       "23520               Female      Head of Household     Single/Never Married   \n",
       "23521               Female                 Parent                  Widowed   \n",
       "23522               Female                 Parent       Divorced/Seperated   \n",
       "23523                 Male                  Child     Single/Never Married   \n",
       "\n",
       "                       education_level                   job_type  \n",
       "0                  Secondary education              Self employed  \n",
       "1                  No formal education       Government Dependent  \n",
       "2      Vocational/Specialised training              Self employed  \n",
       "3                    Primary education  Formally employed Private  \n",
       "4                    Primary education        Informally employed  \n",
       "...                                ...                        ...  \n",
       "23519              No formal education               Other Income  \n",
       "23520              Secondary education               Other Income  \n",
       "23521                Primary education               Other Income  \n",
       "23522              Secondary education              Self employed  \n",
       "23523              Secondary education                  No Income  \n",
       "\n",
       "[23524 rows x 13 columns]"
      ]
     },
     "execution_count": 2,
     "metadata": {},
     "output_type": "execute_result"
    }
   ],
   "source": [
    "#Loading the dataset\n",
    "train=pd.read_csv('Train.csv')\n",
    "train"
   ]
  },
  {
   "cell_type": "code",
   "execution_count": 3,
   "id": "7c7b0595",
   "metadata": {},
   "outputs": [
    {
     "data": {
      "text/plain": [
       "(23524, 13)"
      ]
     },
     "execution_count": 3,
     "metadata": {},
     "output_type": "execute_result"
    }
   ],
   "source": [
    "#Checking number of rows and columns\n",
    "train.shape"
   ]
  },
  {
   "cell_type": "code",
   "execution_count": 4,
   "id": "01eec101",
   "metadata": {},
   "outputs": [
    {
     "name": "stdout",
     "output_type": "stream",
     "text": [
      "<class 'pandas.core.frame.DataFrame'>\n",
      "RangeIndex: 23524 entries, 0 to 23523\n",
      "Data columns (total 13 columns):\n",
      " #   Column                  Non-Null Count  Dtype \n",
      "---  ------                  --------------  ----- \n",
      " 0   country                 23524 non-null  object\n",
      " 1   year                    23524 non-null  int64 \n",
      " 2   uniqueid                23524 non-null  object\n",
      " 3   bank_account            23524 non-null  object\n",
      " 4   location_type           23524 non-null  object\n",
      " 5   cellphone_access        23524 non-null  object\n",
      " 6   household_size          23524 non-null  int64 \n",
      " 7   age_of_respondent       23524 non-null  int64 \n",
      " 8   gender_of_respondent    23524 non-null  object\n",
      " 9   relationship_with_head  23524 non-null  object\n",
      " 10  marital_status          23524 non-null  object\n",
      " 11  education_level         23524 non-null  object\n",
      " 12  job_type                23524 non-null  object\n",
      "dtypes: int64(3), object(10)\n",
      "memory usage: 2.3+ MB\n"
     ]
    }
   ],
   "source": [
    "#Getting the summary of the dataset and datatypes\n",
    "train.info()"
   ]
  },
  {
   "cell_type": "code",
   "execution_count": 5,
   "id": "77db29ef",
   "metadata": {},
   "outputs": [
    {
     "data": {
      "text/plain": [
       "country                   False\n",
       "year                      False\n",
       "uniqueid                  False\n",
       "bank_account              False\n",
       "location_type             False\n",
       "cellphone_access          False\n",
       "household_size            False\n",
       "age_of_respondent         False\n",
       "gender_of_respondent      False\n",
       "relationship_with_head    False\n",
       "marital_status            False\n",
       "education_level           False\n",
       "job_type                  False\n",
       "dtype: bool"
      ]
     },
     "execution_count": 5,
     "metadata": {},
     "output_type": "execute_result"
    }
   ],
   "source": [
    "#Checking for null values\n",
    "train.isnull().any()"
   ]
  },
  {
   "cell_type": "code",
   "execution_count": 6,
   "id": "60265adb",
   "metadata": {},
   "outputs": [
    {
     "data": {
      "text/plain": [
       "False"
      ]
     },
     "execution_count": 6,
     "metadata": {},
     "output_type": "execute_result"
    }
   ],
   "source": [
    "#Checking for duplicates in the dataset\n",
    "train.duplicated().any()"
   ]
  },
  {
   "cell_type": "markdown",
   "id": "1f8b0206",
   "metadata": {},
   "source": [
    "<h1/>Data Analysis"
   ]
  },
  {
   "cell_type": "markdown",
   "id": "4abf41c5",
   "metadata": {},
   "source": [
    "<b/>Household Characteristics"
   ]
  },
  {
   "cell_type": "code",
   "execution_count": 7,
   "id": "a22ebb05",
   "metadata": {
    "scrolled": true
   },
   "outputs": [
    {
     "name": "stdout",
     "output_type": "stream",
     "text": [
      "       household_size\n",
      "count    23524.000000\n",
      "mean         3.797483\n",
      "std          2.227613\n",
      "min          1.000000\n",
      "25%          2.000000\n",
      "50%          3.000000\n",
      "75%          5.000000\n",
      "max         21.000000\n",
      "Mean: The average household size is approximately 3.8.\n",
      "Minimum: The smallest household size in the dataset is 1.\n",
      "Median (50th Percentile or Q2): The median household size is 3, which means that 50% of the households have a size of 3 or less\n",
      "Maximum: The largest household size in the dataset is 21.\n"
     ]
    }
   ],
   "source": [
    "#Getting descriptive analysis of the household size\n",
    "description=train[['household_size']].describe()\n",
    "\n",
    "print(description)\n",
    "\n",
    "print('Mean: The average household size is approximately 3.8.')\n",
    "print('Minimum: The smallest household size in the dataset is 1.')\n",
    "print('Median (50th Percentile or Q2): The median household size is 3, which means that 50% of the households have a size of 3 or less')\n",
    "print('Maximum: The largest household size in the dataset is 21.')\n"
   ]
  },
  {
   "cell_type": "code",
   "execution_count": 8,
   "id": "b21de45f",
   "metadata": {
    "scrolled": true
   },
   "outputs": [
    {
     "data": {
      "text/html": [
       "<div>\n",
       "<style scoped>\n",
       "    .dataframe tbody tr th:only-of-type {\n",
       "        vertical-align: middle;\n",
       "    }\n",
       "\n",
       "    .dataframe tbody tr th {\n",
       "        vertical-align: top;\n",
       "    }\n",
       "\n",
       "    .dataframe thead th {\n",
       "        text-align: right;\n",
       "    }\n",
       "</style>\n",
       "<table border=\"1\" class=\"dataframe\">\n",
       "  <thead>\n",
       "    <tr style=\"text-align: right;\">\n",
       "      <th></th>\n",
       "      <th>country</th>\n",
       "      <th>year</th>\n",
       "      <th>uniqueid</th>\n",
       "      <th>bank_account</th>\n",
       "      <th>location_type</th>\n",
       "      <th>cellphone_access</th>\n",
       "      <th>household_size</th>\n",
       "      <th>age_of_respondent</th>\n",
       "      <th>gender_of_respondent</th>\n",
       "      <th>relationship_with_head</th>\n",
       "      <th>marital_status</th>\n",
       "      <th>education_level</th>\n",
       "      <th>job_type</th>\n",
       "    </tr>\n",
       "  </thead>\n",
       "  <tbody>\n",
       "    <tr>\n",
       "      <th>4224</th>\n",
       "      <td>Kenya</td>\n",
       "      <td>2018</td>\n",
       "      <td>uniqueid_4225</td>\n",
       "      <td>No</td>\n",
       "      <td>Rural</td>\n",
       "      <td>No</td>\n",
       "      <td>21</td>\n",
       "      <td>59</td>\n",
       "      <td>Female</td>\n",
       "      <td>Spouse</td>\n",
       "      <td>Married/Living together</td>\n",
       "      <td>No formal education</td>\n",
       "      <td>Remittance Dependent</td>\n",
       "    </tr>\n",
       "  </tbody>\n",
       "</table>\n",
       "</div>"
      ],
      "text/plain": [
       "     country  year       uniqueid bank_account location_type cellphone_access  \\\n",
       "4224   Kenya  2018  uniqueid_4225           No         Rural               No   \n",
       "\n",
       "      household_size  age_of_respondent gender_of_respondent  \\\n",
       "4224              21                 59               Female   \n",
       "\n",
       "     relationship_with_head           marital_status      education_level  \\\n",
       "4224                 Spouse  Married/Living together  No formal education   \n",
       "\n",
       "                  job_type  \n",
       "4224  Remittance Dependent  "
      ]
     },
     "execution_count": 8,
     "metadata": {},
     "output_type": "execute_result"
    }
   ],
   "source": [
    "train[train['household_size']==21]"
   ]
  },
  {
   "cell_type": "code",
   "execution_count": 9,
   "id": "f17cb9ed",
   "metadata": {},
   "outputs": [
    {
     "data": {
      "text/html": [
       "<div>\n",
       "<style scoped>\n",
       "    .dataframe tbody tr th:only-of-type {\n",
       "        vertical-align: middle;\n",
       "    }\n",
       "\n",
       "    .dataframe tbody tr th {\n",
       "        vertical-align: top;\n",
       "    }\n",
       "\n",
       "    .dataframe thead th {\n",
       "        text-align: right;\n",
       "    }\n",
       "</style>\n",
       "<table border=\"1\" class=\"dataframe\">\n",
       "  <thead>\n",
       "    <tr style=\"text-align: right;\">\n",
       "      <th></th>\n",
       "      <th>country</th>\n",
       "      <th>year</th>\n",
       "      <th>uniqueid</th>\n",
       "      <th>bank_account</th>\n",
       "      <th>location_type</th>\n",
       "      <th>cellphone_access</th>\n",
       "      <th>household_size</th>\n",
       "      <th>age_of_respondent</th>\n",
       "      <th>gender_of_respondent</th>\n",
       "      <th>relationship_with_head</th>\n",
       "      <th>marital_status</th>\n",
       "      <th>education_level</th>\n",
       "      <th>job_type</th>\n",
       "    </tr>\n",
       "  </thead>\n",
       "  <tbody>\n",
       "    <tr>\n",
       "      <th>372</th>\n",
       "      <td>Kenya</td>\n",
       "      <td>2018</td>\n",
       "      <td>uniqueid_373</td>\n",
       "      <td>No</td>\n",
       "      <td>Urban</td>\n",
       "      <td>Yes</td>\n",
       "      <td>16</td>\n",
       "      <td>33</td>\n",
       "      <td>Female</td>\n",
       "      <td>Spouse</td>\n",
       "      <td>Married/Living together</td>\n",
       "      <td>No formal education</td>\n",
       "      <td>Remittance Dependent</td>\n",
       "    </tr>\n",
       "    <tr>\n",
       "      <th>1148</th>\n",
       "      <td>Kenya</td>\n",
       "      <td>2018</td>\n",
       "      <td>uniqueid_1149</td>\n",
       "      <td>No</td>\n",
       "      <td>Rural</td>\n",
       "      <td>Yes</td>\n",
       "      <td>16</td>\n",
       "      <td>33</td>\n",
       "      <td>Male</td>\n",
       "      <td>Child</td>\n",
       "      <td>Married/Living together</td>\n",
       "      <td>Secondary education</td>\n",
       "      <td>Formally employed Private</td>\n",
       "    </tr>\n",
       "    <tr>\n",
       "      <th>4224</th>\n",
       "      <td>Kenya</td>\n",
       "      <td>2018</td>\n",
       "      <td>uniqueid_4225</td>\n",
       "      <td>No</td>\n",
       "      <td>Rural</td>\n",
       "      <td>No</td>\n",
       "      <td>21</td>\n",
       "      <td>59</td>\n",
       "      <td>Female</td>\n",
       "      <td>Spouse</td>\n",
       "      <td>Married/Living together</td>\n",
       "      <td>No formal education</td>\n",
       "      <td>Remittance Dependent</td>\n",
       "    </tr>\n",
       "    <tr>\n",
       "      <th>21912</th>\n",
       "      <td>Uganda</td>\n",
       "      <td>2018</td>\n",
       "      <td>uniqueid_490</td>\n",
       "      <td>No</td>\n",
       "      <td>Rural</td>\n",
       "      <td>No</td>\n",
       "      <td>18</td>\n",
       "      <td>31</td>\n",
       "      <td>Female</td>\n",
       "      <td>Spouse</td>\n",
       "      <td>Married/Living together</td>\n",
       "      <td>No formal education</td>\n",
       "      <td>Self employed</td>\n",
       "    </tr>\n",
       "    <tr>\n",
       "      <th>22064</th>\n",
       "      <td>Uganda</td>\n",
       "      <td>2018</td>\n",
       "      <td>uniqueid_642</td>\n",
       "      <td>Yes</td>\n",
       "      <td>Urban</td>\n",
       "      <td>Yes</td>\n",
       "      <td>17</td>\n",
       "      <td>70</td>\n",
       "      <td>Female</td>\n",
       "      <td>Head of Household</td>\n",
       "      <td>Widowed</td>\n",
       "      <td>Primary education</td>\n",
       "      <td>Other Income</td>\n",
       "    </tr>\n",
       "    <tr>\n",
       "      <th>22392</th>\n",
       "      <td>Uganda</td>\n",
       "      <td>2018</td>\n",
       "      <td>uniqueid_970</td>\n",
       "      <td>No</td>\n",
       "      <td>Rural</td>\n",
       "      <td>No</td>\n",
       "      <td>20</td>\n",
       "      <td>28</td>\n",
       "      <td>Female</td>\n",
       "      <td>Other relative</td>\n",
       "      <td>Married/Living together</td>\n",
       "      <td>Primary education</td>\n",
       "      <td>No Income</td>\n",
       "    </tr>\n",
       "    <tr>\n",
       "      <th>22777</th>\n",
       "      <td>Uganda</td>\n",
       "      <td>2018</td>\n",
       "      <td>uniqueid_1355</td>\n",
       "      <td>No</td>\n",
       "      <td>Rural</td>\n",
       "      <td>Yes</td>\n",
       "      <td>16</td>\n",
       "      <td>28</td>\n",
       "      <td>Female</td>\n",
       "      <td>Spouse</td>\n",
       "      <td>Married/Living together</td>\n",
       "      <td>No formal education</td>\n",
       "      <td>Self employed</td>\n",
       "    </tr>\n",
       "    <tr>\n",
       "      <th>22778</th>\n",
       "      <td>Uganda</td>\n",
       "      <td>2018</td>\n",
       "      <td>uniqueid_1356</td>\n",
       "      <td>No</td>\n",
       "      <td>Rural</td>\n",
       "      <td>No</td>\n",
       "      <td>16</td>\n",
       "      <td>24</td>\n",
       "      <td>Female</td>\n",
       "      <td>Parent</td>\n",
       "      <td>Married/Living together</td>\n",
       "      <td>Secondary education</td>\n",
       "      <td>Self employed</td>\n",
       "    </tr>\n",
       "  </tbody>\n",
       "</table>\n",
       "</div>"
      ],
      "text/plain": [
       "      country  year       uniqueid bank_account location_type  \\\n",
       "372     Kenya  2018   uniqueid_373           No         Urban   \n",
       "1148    Kenya  2018  uniqueid_1149           No         Rural   \n",
       "4224    Kenya  2018  uniqueid_4225           No         Rural   \n",
       "21912  Uganda  2018   uniqueid_490           No         Rural   \n",
       "22064  Uganda  2018   uniqueid_642          Yes         Urban   \n",
       "22392  Uganda  2018   uniqueid_970           No         Rural   \n",
       "22777  Uganda  2018  uniqueid_1355           No         Rural   \n",
       "22778  Uganda  2018  uniqueid_1356           No         Rural   \n",
       "\n",
       "      cellphone_access  household_size  age_of_respondent  \\\n",
       "372                Yes              16                 33   \n",
       "1148               Yes              16                 33   \n",
       "4224                No              21                 59   \n",
       "21912               No              18                 31   \n",
       "22064              Yes              17                 70   \n",
       "22392               No              20                 28   \n",
       "22777              Yes              16                 28   \n",
       "22778               No              16                 24   \n",
       "\n",
       "      gender_of_respondent relationship_with_head           marital_status  \\\n",
       "372                 Female                 Spouse  Married/Living together   \n",
       "1148                  Male                  Child  Married/Living together   \n",
       "4224                Female                 Spouse  Married/Living together   \n",
       "21912               Female                 Spouse  Married/Living together   \n",
       "22064               Female      Head of Household                  Widowed   \n",
       "22392               Female         Other relative  Married/Living together   \n",
       "22777               Female                 Spouse  Married/Living together   \n",
       "22778               Female                 Parent  Married/Living together   \n",
       "\n",
       "           education_level                   job_type  \n",
       "372    No formal education       Remittance Dependent  \n",
       "1148   Secondary education  Formally employed Private  \n",
       "4224   No formal education       Remittance Dependent  \n",
       "21912  No formal education              Self employed  \n",
       "22064    Primary education               Other Income  \n",
       "22392    Primary education                  No Income  \n",
       "22777  No formal education              Self employed  \n",
       "22778  Secondary education              Self employed  "
      ]
     },
     "execution_count": 9,
     "metadata": {},
     "output_type": "execute_result"
    }
   ],
   "source": [
    "train[train['household_size']>15]"
   ]
  },
  {
   "cell_type": "code",
   "execution_count": 10,
   "id": "3b95b362",
   "metadata": {},
   "outputs": [
    {
     "data": {
      "image/png": "[encoded data removed]",
      "text/plain": [
       "<Figure size 576x432 with 1 Axes>"
      ]
     },
     "metadata": {
      "needs_background": "light"
     },
     "output_type": "display_data"
    },
    {
     "name": "stdout",
     "output_type": "stream",
     "text": [
      "The analysis shows that people in rural areas have a higher household size compared to urban areas.\n"
     ]
    }
   ],
   "source": [
    "#Difference in household size between rural and urban areas\n",
    "\n",
    "# Separate the data for rural and urban areas\n",
    "rural_household_size = train[train['location_type'] == 'Rural']['household_size']\n",
    "urban_household_size = train[train['location_type'] == 'Urban']['household_size']\n",
    "\n",
    "# Plotting the distributions\n",
    "plt.figure(figsize=(8, 6))\n",
    "plt.boxplot([rural_household_size, urban_household_size], labels=['Rural', 'Urban'])\n",
    "plt.title('Household Size by Location Type')\n",
    "plt.xlabel('Location Type')\n",
    "plt.ylabel('Household Size')\n",
    "plt.show()\n",
    "print('The analysis shows that people in rural areas have a higher household size compared to urban areas.')"
   ]
  },
  {
   "cell_type": "code",
   "execution_count": 11,
   "id": "f1430fc5",
   "metadata": {},
   "outputs": [
    {
     "data": {
      "image/png": "[encoded data removed]",
      "text/plain": [
       "<Figure size 432x288 with 1 Axes>"
      ]
     },
     "metadata": {
      "needs_background": "light"
     },
     "output_type": "display_data"
    }
   ],
   "source": [
    "#Relationship between household size and cellphone access\n",
    "\n",
    "grouped_data = train.groupby('household_size')['cellphone_access'].value_counts(normalize=True).unstack()\n",
    "\n",
    "\n",
    "grouped_data.plot(kind='bar', stacked=True)\n",
    "plt.xlabel('Household Size')\n",
    "plt.ylabel('Proportion of Respondents')\n",
    "plt.title('Cellphone Access by Household Size')\n",
    "plt.legend(title='Cellphone Access', loc='center left', bbox_to_anchor=(1, 0.5))\n",
    "plt.show()\n",
    "\n"
   ]
  },
  {
   "cell_type": "markdown",
   "id": "1d32311c",
   "metadata": {},
   "source": [
    "<b/>Demographic analysis"
   ]
  },
  {
   "cell_type": "markdown",
   "id": "f3b2e47a",
   "metadata": {},
   "source": [
    "<b/>Gender"
   ]
  },
  {
   "cell_type": "code",
   "execution_count": 12,
   "id": "8c00e345",
   "metadata": {},
   "outputs": [
    {
     "data": {
      "text/html": [
       "<div>\n",
       "<style scoped>\n",
       "    .dataframe tbody tr th:only-of-type {\n",
       "        vertical-align: middle;\n",
       "    }\n",
       "\n",
       "    .dataframe tbody tr th {\n",
       "        vertical-align: top;\n",
       "    }\n",
       "\n",
       "    .dataframe thead th {\n",
       "        text-align: right;\n",
       "    }\n",
       "</style>\n",
       "<table border=\"1\" class=\"dataframe\">\n",
       "  <thead>\n",
       "    <tr style=\"text-align: right;\">\n",
       "      <th></th>\n",
       "      <th>country</th>\n",
       "      <th>year</th>\n",
       "      <th>uniqueid</th>\n",
       "      <th>bank_account</th>\n",
       "      <th>location_type</th>\n",
       "      <th>cellphone_access</th>\n",
       "      <th>household_size</th>\n",
       "      <th>age_of_respondent</th>\n",
       "      <th>gender_of_respondent</th>\n",
       "      <th>relationship_with_head</th>\n",
       "      <th>marital_status</th>\n",
       "      <th>education_level</th>\n",
       "      <th>job_type</th>\n",
       "    </tr>\n",
       "  </thead>\n",
       "  <tbody>\n",
       "    <tr>\n",
       "      <th>0</th>\n",
       "      <td>Kenya</td>\n",
       "      <td>2018</td>\n",
       "      <td>uniqueid_1</td>\n",
       "      <td>Yes</td>\n",
       "      <td>Rural</td>\n",
       "      <td>Yes</td>\n",
       "      <td>3</td>\n",
       "      <td>24</td>\n",
       "      <td>Female</td>\n",
       "      <td>Spouse</td>\n",
       "      <td>Married/Living together</td>\n",
       "      <td>Secondary education</td>\n",
       "      <td>Self employed</td>\n",
       "    </tr>\n",
       "    <tr>\n",
       "      <th>1</th>\n",
       "      <td>Kenya</td>\n",
       "      <td>2018</td>\n",
       "      <td>uniqueid_2</td>\n",
       "      <td>No</td>\n",
       "      <td>Rural</td>\n",
       "      <td>No</td>\n",
       "      <td>5</td>\n",
       "      <td>70</td>\n",
       "      <td>Female</td>\n",
       "      <td>Head of Household</td>\n",
       "      <td>Widowed</td>\n",
       "      <td>No formal education</td>\n",
       "      <td>Government Dependent</td>\n",
       "    </tr>\n",
       "    <tr>\n",
       "      <th>2</th>\n",
       "      <td>Kenya</td>\n",
       "      <td>2018</td>\n",
       "      <td>uniqueid_3</td>\n",
       "      <td>Yes</td>\n",
       "      <td>Urban</td>\n",
       "      <td>Yes</td>\n",
       "      <td>5</td>\n",
       "      <td>26</td>\n",
       "      <td>Male</td>\n",
       "      <td>Other relative</td>\n",
       "      <td>Single/Never Married</td>\n",
       "      <td>Vocational/Specialised training</td>\n",
       "      <td>Self employed</td>\n",
       "    </tr>\n",
       "    <tr>\n",
       "      <th>3</th>\n",
       "      <td>Kenya</td>\n",
       "      <td>2018</td>\n",
       "      <td>uniqueid_4</td>\n",
       "      <td>No</td>\n",
       "      <td>Rural</td>\n",
       "      <td>Yes</td>\n",
       "      <td>5</td>\n",
       "      <td>34</td>\n",
       "      <td>Female</td>\n",
       "      <td>Head of Household</td>\n",
       "      <td>Married/Living together</td>\n",
       "      <td>Primary education</td>\n",
       "      <td>Formally employed Private</td>\n",
       "    </tr>\n",
       "    <tr>\n",
       "      <th>4</th>\n",
       "      <td>Kenya</td>\n",
       "      <td>2018</td>\n",
       "      <td>uniqueid_5</td>\n",
       "      <td>No</td>\n",
       "      <td>Urban</td>\n",
       "      <td>No</td>\n",
       "      <td>8</td>\n",
       "      <td>26</td>\n",
       "      <td>Male</td>\n",
       "      <td>Child</td>\n",
       "      <td>Single/Never Married</td>\n",
       "      <td>Primary education</td>\n",
       "      <td>Informally employed</td>\n",
       "    </tr>\n",
       "  </tbody>\n",
       "</table>\n",
       "</div>"
      ],
      "text/plain": [
       "  country  year    uniqueid bank_account location_type cellphone_access  \\\n",
       "0   Kenya  2018  uniqueid_1          Yes         Rural              Yes   \n",
       "1   Kenya  2018  uniqueid_2           No         Rural               No   \n",
       "2   Kenya  2018  uniqueid_3          Yes         Urban              Yes   \n",
       "3   Kenya  2018  uniqueid_4           No         Rural              Yes   \n",
       "4   Kenya  2018  uniqueid_5           No         Urban               No   \n",
       "\n",
       "   household_size  age_of_respondent gender_of_respondent  \\\n",
       "0               3                 24               Female   \n",
       "1               5                 70               Female   \n",
       "2               5                 26                 Male   \n",
       "3               5                 34               Female   \n",
       "4               8                 26                 Male   \n",
       "\n",
       "  relationship_with_head           marital_status  \\\n",
       "0                 Spouse  Married/Living together   \n",
       "1      Head of Household                  Widowed   \n",
       "2         Other relative     Single/Never Married   \n",
       "3      Head of Household  Married/Living together   \n",
       "4                  Child     Single/Never Married   \n",
       "\n",
       "                   education_level                   job_type  \n",
       "0              Secondary education              Self employed  \n",
       "1              No formal education       Government Dependent  \n",
       "2  Vocational/Specialised training              Self employed  \n",
       "3                Primary education  Formally employed Private  \n",
       "4                Primary education        Informally employed  "
      ]
     },
     "execution_count": 12,
     "metadata": {},
     "output_type": "execute_result"
    }
   ],
   "source": [
    "train.head()"
   ]
  },
  {
   "cell_type": "code",
   "execution_count": 13,
   "id": "7c054726",
   "metadata": {},
   "outputs": [
    {
     "data": {
      "text/plain": [
       "Female    13877\n",
       "Male       9647\n",
       "Name: gender_of_respondent, dtype: int64"
      ]
     },
     "execution_count": 13,
     "metadata": {},
     "output_type": "execute_result"
    }
   ],
   "source": [
    "#Distribution of respondents by gender\n",
    "gender_counts=train['gender_of_respondent'].value_counts()\n",
    "gender_counts"
   ]
  },
  {
   "cell_type": "code",
   "execution_count": 14,
   "id": "5a961654",
   "metadata": {},
   "outputs": [
    {
     "data": {
      "image/png": "[encoded data removed]",
      "text/plain": [
       "<Figure size 432x288 with 1 Axes>"
      ]
     },
     "metadata": {},
     "output_type": "display_data"
    }
   ],
   "source": [
    "# Create a list of gender labels and a list of corresponding counts\n",
    "gender_labels = gender_counts.index.tolist()\n",
    "gender_values = gender_counts.values.tolist()\n",
    "\n",
    "# Plot the pie chart\n",
    "plt.pie(gender_values, labels=gender_labels, autopct='%1.1f%%')\n",
    "plt.title('Distribution of Respondents by Gender')\n",
    "plt.axis('equal')  # Equal aspect ratio ensures that the pie is drawn as a circle\n",
    "plt.show()"
   ]
  },
  {
   "cell_type": "markdown",
   "id": "1cabc0f0",
   "metadata": {},
   "source": [
    "<b/>Age of respondent"
   ]
  },
  {
   "cell_type": "code",
   "execution_count": 15,
   "id": "ef3c267e",
   "metadata": {},
   "outputs": [
    {
     "name": "stdout",
     "output_type": "stream",
     "text": [
      "       age_of_respondent\n",
      "count       23524.000000\n",
      "mean           38.805220\n",
      "std            16.520569\n",
      "min            16.000000\n",
      "25%            26.000000\n",
      "50%            35.000000\n",
      "75%            49.000000\n",
      "max           100.000000\n",
      "The average age of the respondents is approximately 38.81 years.The youngest respondent is 16 years old.the median, 50% of the respondents have an age of 35 or below.The oldest respondent is 100 years old.\n"
     ]
    }
   ],
   "source": [
    "#Descriptive analysis\n",
    "description=train[['age_of_respondent']].describe()\n",
    "\n",
    "print(description)\n",
    "print('The average age of the respondents is approximately 38.81 years.The youngest respondent is 16 years old.the median, 50% of the respondents have an age of 35 or below.The oldest respondent is 100 years old.')"
   ]
  },
  {
   "cell_type": "code",
   "execution_count": 16,
   "id": "c8490c81",
   "metadata": {},
   "outputs": [
    {
     "data": {
      "image/png": "[encoded data removed]",
      "text/plain": [
       "<Figure size 432x288 with 1 Axes>"
      ]
     },
     "metadata": {
      "needs_background": "light"
     },
     "output_type": "display_data"
    }
   ],
   "source": [
    "#Scatterplot showing the distribution of ages\n",
    "\n",
    "# Age distribution data\n",
    "age_data = train['age_of_respondent']\n",
    "\n",
    "# Plot the scatter plot\n",
    "plt.scatter(x=range(len(age_data)), y=age_data, color='brown', alpha=0.5)\n",
    "plt.xlabel('Respondent Index')\n",
    "plt.ylabel('Age')\n",
    "plt.title('Age Distribution of Respondents')\n",
    "plt.show()\n"
   ]
  },
  {
   "cell_type": "code",
   "execution_count": 17,
   "id": "a05f6c96",
   "metadata": {
    "scrolled": true
   },
   "outputs": [
    {
     "data": {
      "image/png": "[encoded data removed]",
      "text/plain": [
       "<Figure size 432x288 with 1 Axes>"
      ]
     },
     "metadata": {
      "needs_background": "light"
     },
     "output_type": "display_data"
    }
   ],
   "source": [
    "#Age distribution of the interviewees\n",
    "age_data = train['age_of_respondent']\n",
    "\n",
    "\n",
    "plt.hist(age_data, bins=20, edgecolor='k',color='brown')\n",
    "plt.xlabel('Age')\n",
    "plt.ylabel('Frequency')\n",
    "plt.title('Age Distribution of Interviewees')\n",
    "plt.show()\n"
   ]
  },
  {
   "cell_type": "code",
   "execution_count": 18,
   "id": "f7ba818f",
   "metadata": {},
   "outputs": [
    {
     "data": {
      "text/html": [
       "<div>\n",
       "<style scoped>\n",
       "    .dataframe tbody tr th:only-of-type {\n",
       "        vertical-align: middle;\n",
       "    }\n",
       "\n",
       "    .dataframe tbody tr th {\n",
       "        vertical-align: top;\n",
       "    }\n",
       "\n",
       "    .dataframe thead th {\n",
       "        text-align: right;\n",
       "    }\n",
       "</style>\n",
       "<table border=\"1\" class=\"dataframe\">\n",
       "  <thead>\n",
       "    <tr style=\"text-align: right;\">\n",
       "      <th></th>\n",
       "      <th>country</th>\n",
       "      <th>year</th>\n",
       "      <th>uniqueid</th>\n",
       "      <th>bank_account</th>\n",
       "      <th>location_type</th>\n",
       "      <th>cellphone_access</th>\n",
       "      <th>household_size</th>\n",
       "      <th>age_of_respondent</th>\n",
       "      <th>gender_of_respondent</th>\n",
       "      <th>relationship_with_head</th>\n",
       "      <th>marital_status</th>\n",
       "      <th>education_level</th>\n",
       "      <th>job_type</th>\n",
       "    </tr>\n",
       "  </thead>\n",
       "  <tbody>\n",
       "    <tr>\n",
       "      <th>14804</th>\n",
       "      <td>Tanzania</td>\n",
       "      <td>2017</td>\n",
       "      <td>uniqueid_2</td>\n",
       "      <td>No</td>\n",
       "      <td>Urban</td>\n",
       "      <td>No</td>\n",
       "      <td>2</td>\n",
       "      <td>100</td>\n",
       "      <td>Male</td>\n",
       "      <td>Head of Household</td>\n",
       "      <td>Single/Never Married</td>\n",
       "      <td>No formal education</td>\n",
       "      <td>Self employed</td>\n",
       "    </tr>\n",
       "    <tr>\n",
       "      <th>18698</th>\n",
       "      <td>Tanzania</td>\n",
       "      <td>2017</td>\n",
       "      <td>uniqueid_3896</td>\n",
       "      <td>No</td>\n",
       "      <td>Urban</td>\n",
       "      <td>No</td>\n",
       "      <td>5</td>\n",
       "      <td>100</td>\n",
       "      <td>Male</td>\n",
       "      <td>Parent</td>\n",
       "      <td>Widowed</td>\n",
       "      <td>Primary education</td>\n",
       "      <td>Government Dependent</td>\n",
       "    </tr>\n",
       "    <tr>\n",
       "      <th>20508</th>\n",
       "      <td>Tanzania</td>\n",
       "      <td>2017</td>\n",
       "      <td>uniqueid_5706</td>\n",
       "      <td>No</td>\n",
       "      <td>Rural</td>\n",
       "      <td>No</td>\n",
       "      <td>4</td>\n",
       "      <td>100</td>\n",
       "      <td>Female</td>\n",
       "      <td>Child</td>\n",
       "      <td>Widowed</td>\n",
       "      <td>No formal education</td>\n",
       "      <td>No Income</td>\n",
       "    </tr>\n",
       "    <tr>\n",
       "      <th>20727</th>\n",
       "      <td>Tanzania</td>\n",
       "      <td>2017</td>\n",
       "      <td>uniqueid_5925</td>\n",
       "      <td>No</td>\n",
       "      <td>Urban</td>\n",
       "      <td>No</td>\n",
       "      <td>3</td>\n",
       "      <td>100</td>\n",
       "      <td>Male</td>\n",
       "      <td>Head of Household</td>\n",
       "      <td>Single/Never Married</td>\n",
       "      <td>Primary education</td>\n",
       "      <td>Self employed</td>\n",
       "    </tr>\n",
       "    <tr>\n",
       "      <th>20945</th>\n",
       "      <td>Tanzania</td>\n",
       "      <td>2017</td>\n",
       "      <td>uniqueid_6143</td>\n",
       "      <td>No</td>\n",
       "      <td>Urban</td>\n",
       "      <td>No</td>\n",
       "      <td>2</td>\n",
       "      <td>100</td>\n",
       "      <td>Female</td>\n",
       "      <td>Head of Household</td>\n",
       "      <td>Widowed</td>\n",
       "      <td>No formal education</td>\n",
       "      <td>No Income</td>\n",
       "    </tr>\n",
       "    <tr>\n",
       "      <th>9755</th>\n",
       "      <td>Rwanda</td>\n",
       "      <td>2016</td>\n",
       "      <td>uniqueid_3688</td>\n",
       "      <td>No</td>\n",
       "      <td>Urban</td>\n",
       "      <td>No</td>\n",
       "      <td>2</td>\n",
       "      <td>99</td>\n",
       "      <td>Female</td>\n",
       "      <td>Head of Household</td>\n",
       "      <td>Widowed</td>\n",
       "      <td>No formal education</td>\n",
       "      <td>Remittance Dependent</td>\n",
       "    </tr>\n",
       "    <tr>\n",
       "      <th>16255</th>\n",
       "      <td>Tanzania</td>\n",
       "      <td>2017</td>\n",
       "      <td>uniqueid_1453</td>\n",
       "      <td>No</td>\n",
       "      <td>Urban</td>\n",
       "      <td>Yes</td>\n",
       "      <td>3</td>\n",
       "      <td>99</td>\n",
       "      <td>Female</td>\n",
       "      <td>Parent</td>\n",
       "      <td>Widowed</td>\n",
       "      <td>No formal education</td>\n",
       "      <td>Remittance Dependent</td>\n",
       "    </tr>\n",
       "    <tr>\n",
       "      <th>7750</th>\n",
       "      <td>Rwanda</td>\n",
       "      <td>2016</td>\n",
       "      <td>uniqueid_1683</td>\n",
       "      <td>No</td>\n",
       "      <td>Rural</td>\n",
       "      <td>No</td>\n",
       "      <td>1</td>\n",
       "      <td>98</td>\n",
       "      <td>Male</td>\n",
       "      <td>Head of Household</td>\n",
       "      <td>Widowed</td>\n",
       "      <td>Primary education</td>\n",
       "      <td>Other Income</td>\n",
       "    </tr>\n",
       "    <tr>\n",
       "      <th>15226</th>\n",
       "      <td>Tanzania</td>\n",
       "      <td>2017</td>\n",
       "      <td>uniqueid_424</td>\n",
       "      <td>No</td>\n",
       "      <td>Urban</td>\n",
       "      <td>Yes</td>\n",
       "      <td>1</td>\n",
       "      <td>98</td>\n",
       "      <td>Female</td>\n",
       "      <td>Head of Household</td>\n",
       "      <td>Widowed</td>\n",
       "      <td>Primary education</td>\n",
       "      <td>Remittance Dependent</td>\n",
       "    </tr>\n",
       "    <tr>\n",
       "      <th>19878</th>\n",
       "      <td>Tanzania</td>\n",
       "      <td>2017</td>\n",
       "      <td>uniqueid_5076</td>\n",
       "      <td>No</td>\n",
       "      <td>Urban</td>\n",
       "      <td>No</td>\n",
       "      <td>1</td>\n",
       "      <td>98</td>\n",
       "      <td>Female</td>\n",
       "      <td>Head of Household</td>\n",
       "      <td>Widowed</td>\n",
       "      <td>No formal education</td>\n",
       "      <td>Remittance Dependent</td>\n",
       "    </tr>\n",
       "  </tbody>\n",
       "</table>\n",
       "</div>"
      ],
      "text/plain": [
       "        country  year       uniqueid bank_account location_type  \\\n",
       "14804  Tanzania  2017     uniqueid_2           No         Urban   \n",
       "18698  Tanzania  2017  uniqueid_3896           No         Urban   \n",
       "20508  Tanzania  2017  uniqueid_5706           No         Rural   \n",
       "20727  Tanzania  2017  uniqueid_5925           No         Urban   \n",
       "20945  Tanzania  2017  uniqueid_6143           No         Urban   \n",
       "9755     Rwanda  2016  uniqueid_3688           No         Urban   \n",
       "16255  Tanzania  2017  uniqueid_1453           No         Urban   \n",
       "7750     Rwanda  2016  uniqueid_1683           No         Rural   \n",
       "15226  Tanzania  2017   uniqueid_424           No         Urban   \n",
       "19878  Tanzania  2017  uniqueid_5076           No         Urban   \n",
       "\n",
       "      cellphone_access  household_size  age_of_respondent  \\\n",
       "14804               No               2                100   \n",
       "18698               No               5                100   \n",
       "20508               No               4                100   \n",
       "20727               No               3                100   \n",
       "20945               No               2                100   \n",
       "9755                No               2                 99   \n",
       "16255              Yes               3                 99   \n",
       "7750                No               1                 98   \n",
       "15226              Yes               1                 98   \n",
       "19878               No               1                 98   \n",
       "\n",
       "      gender_of_respondent relationship_with_head        marital_status  \\\n",
       "14804                 Male      Head of Household  Single/Never Married   \n",
       "18698                 Male                 Parent               Widowed   \n",
       "20508               Female                  Child               Widowed   \n",
       "20727                 Male      Head of Household  Single/Never Married   \n",
       "20945               Female      Head of Household               Widowed   \n",
       "9755                Female      Head of Household               Widowed   \n",
       "16255               Female                 Parent               Widowed   \n",
       "7750                  Male      Head of Household               Widowed   \n",
       "15226               Female      Head of Household               Widowed   \n",
       "19878               Female      Head of Household               Widowed   \n",
       "\n",
       "           education_level              job_type  \n",
       "14804  No formal education         Self employed  \n",
       "18698    Primary education  Government Dependent  \n",
       "20508  No formal education             No Income  \n",
       "20727    Primary education         Self employed  \n",
       "20945  No formal education             No Income  \n",
       "9755   No formal education  Remittance Dependent  \n",
       "16255  No formal education  Remittance Dependent  \n",
       "7750     Primary education          Other Income  \n",
       "15226    Primary education  Remittance Dependent  \n",
       "19878  No formal education  Remittance Dependent  "
      ]
     },
     "execution_count": 18,
     "metadata": {},
     "output_type": "execute_result"
    }
   ],
   "source": [
    "train.nlargest(10, 'age_of_respondent')\n"
   ]
  },
  {
   "cell_type": "code",
   "execution_count": 19,
   "id": "bed0fdd6",
   "metadata": {},
   "outputs": [
    {
     "data": {
      "text/html": [
       "<div>\n",
       "<style scoped>\n",
       "    .dataframe tbody tr th:only-of-type {\n",
       "        vertical-align: middle;\n",
       "    }\n",
       "\n",
       "    .dataframe tbody tr th {\n",
       "        vertical-align: top;\n",
       "    }\n",
       "\n",
       "    .dataframe thead th {\n",
       "        text-align: right;\n",
       "    }\n",
       "</style>\n",
       "<table border=\"1\" class=\"dataframe\">\n",
       "  <thead>\n",
       "    <tr style=\"text-align: right;\">\n",
       "      <th></th>\n",
       "      <th>country</th>\n",
       "      <th>year</th>\n",
       "      <th>uniqueid</th>\n",
       "      <th>bank_account</th>\n",
       "      <th>location_type</th>\n",
       "      <th>cellphone_access</th>\n",
       "      <th>household_size</th>\n",
       "      <th>age_of_respondent</th>\n",
       "      <th>gender_of_respondent</th>\n",
       "      <th>relationship_with_head</th>\n",
       "      <th>marital_status</th>\n",
       "      <th>education_level</th>\n",
       "      <th>job_type</th>\n",
       "    </tr>\n",
       "  </thead>\n",
       "  <tbody>\n",
       "    <tr>\n",
       "      <th>52</th>\n",
       "      <td>Kenya</td>\n",
       "      <td>2018</td>\n",
       "      <td>uniqueid_53</td>\n",
       "      <td>No</td>\n",
       "      <td>Urban</td>\n",
       "      <td>No</td>\n",
       "      <td>5</td>\n",
       "      <td>16</td>\n",
       "      <td>Female</td>\n",
       "      <td>Other relative</td>\n",
       "      <td>Single/Never Married</td>\n",
       "      <td>Primary education</td>\n",
       "      <td>Remittance Dependent</td>\n",
       "    </tr>\n",
       "    <tr>\n",
       "      <th>104</th>\n",
       "      <td>Kenya</td>\n",
       "      <td>2018</td>\n",
       "      <td>uniqueid_105</td>\n",
       "      <td>Yes</td>\n",
       "      <td>Urban</td>\n",
       "      <td>No</td>\n",
       "      <td>4</td>\n",
       "      <td>16</td>\n",
       "      <td>Female</td>\n",
       "      <td>Other relative</td>\n",
       "      <td>Single/Never Married</td>\n",
       "      <td>Secondary education</td>\n",
       "      <td>Remittance Dependent</td>\n",
       "    </tr>\n",
       "    <tr>\n",
       "      <th>110</th>\n",
       "      <td>Kenya</td>\n",
       "      <td>2018</td>\n",
       "      <td>uniqueid_111</td>\n",
       "      <td>No</td>\n",
       "      <td>Rural</td>\n",
       "      <td>No</td>\n",
       "      <td>3</td>\n",
       "      <td>16</td>\n",
       "      <td>Female</td>\n",
       "      <td>Child</td>\n",
       "      <td>Single/Never Married</td>\n",
       "      <td>Primary education</td>\n",
       "      <td>Remittance Dependent</td>\n",
       "    </tr>\n",
       "    <tr>\n",
       "      <th>213</th>\n",
       "      <td>Kenya</td>\n",
       "      <td>2018</td>\n",
       "      <td>uniqueid_214</td>\n",
       "      <td>No</td>\n",
       "      <td>Urban</td>\n",
       "      <td>Yes</td>\n",
       "      <td>6</td>\n",
       "      <td>16</td>\n",
       "      <td>Male</td>\n",
       "      <td>Other relative</td>\n",
       "      <td>Single/Never Married</td>\n",
       "      <td>Secondary education</td>\n",
       "      <td>Remittance Dependent</td>\n",
       "    </tr>\n",
       "    <tr>\n",
       "      <th>242</th>\n",
       "      <td>Kenya</td>\n",
       "      <td>2018</td>\n",
       "      <td>uniqueid_243</td>\n",
       "      <td>No</td>\n",
       "      <td>Urban</td>\n",
       "      <td>No</td>\n",
       "      <td>2</td>\n",
       "      <td>16</td>\n",
       "      <td>Male</td>\n",
       "      <td>Other relative</td>\n",
       "      <td>Single/Never Married</td>\n",
       "      <td>Secondary education</td>\n",
       "      <td>Remittance Dependent</td>\n",
       "    </tr>\n",
       "    <tr>\n",
       "      <th>281</th>\n",
       "      <td>Kenya</td>\n",
       "      <td>2018</td>\n",
       "      <td>uniqueid_282</td>\n",
       "      <td>No</td>\n",
       "      <td>Rural</td>\n",
       "      <td>No</td>\n",
       "      <td>6</td>\n",
       "      <td>16</td>\n",
       "      <td>Male</td>\n",
       "      <td>Child</td>\n",
       "      <td>Single/Never Married</td>\n",
       "      <td>Primary education</td>\n",
       "      <td>Other Income</td>\n",
       "    </tr>\n",
       "    <tr>\n",
       "      <th>311</th>\n",
       "      <td>Kenya</td>\n",
       "      <td>2018</td>\n",
       "      <td>uniqueid_312</td>\n",
       "      <td>No</td>\n",
       "      <td>Rural</td>\n",
       "      <td>No</td>\n",
       "      <td>7</td>\n",
       "      <td>16</td>\n",
       "      <td>Female</td>\n",
       "      <td>Child</td>\n",
       "      <td>Single/Never Married</td>\n",
       "      <td>Primary education</td>\n",
       "      <td>Remittance Dependent</td>\n",
       "    </tr>\n",
       "    <tr>\n",
       "      <th>398</th>\n",
       "      <td>Kenya</td>\n",
       "      <td>2018</td>\n",
       "      <td>uniqueid_399</td>\n",
       "      <td>No</td>\n",
       "      <td>Rural</td>\n",
       "      <td>No</td>\n",
       "      <td>2</td>\n",
       "      <td>16</td>\n",
       "      <td>Male</td>\n",
       "      <td>Child</td>\n",
       "      <td>Single/Never Married</td>\n",
       "      <td>Primary education</td>\n",
       "      <td>Remittance Dependent</td>\n",
       "    </tr>\n",
       "    <tr>\n",
       "      <th>442</th>\n",
       "      <td>Kenya</td>\n",
       "      <td>2018</td>\n",
       "      <td>uniqueid_443</td>\n",
       "      <td>No</td>\n",
       "      <td>Rural</td>\n",
       "      <td>No</td>\n",
       "      <td>8</td>\n",
       "      <td>16</td>\n",
       "      <td>Male</td>\n",
       "      <td>Child</td>\n",
       "      <td>Single/Never Married</td>\n",
       "      <td>Primary education</td>\n",
       "      <td>Remittance Dependent</td>\n",
       "    </tr>\n",
       "    <tr>\n",
       "      <th>447</th>\n",
       "      <td>Kenya</td>\n",
       "      <td>2018</td>\n",
       "      <td>uniqueid_448</td>\n",
       "      <td>No</td>\n",
       "      <td>Rural</td>\n",
       "      <td>No</td>\n",
       "      <td>5</td>\n",
       "      <td>16</td>\n",
       "      <td>Male</td>\n",
       "      <td>Child</td>\n",
       "      <td>Single/Never Married</td>\n",
       "      <td>Secondary education</td>\n",
       "      <td>Remittance Dependent</td>\n",
       "    </tr>\n",
       "  </tbody>\n",
       "</table>\n",
       "</div>"
      ],
      "text/plain": [
       "    country  year      uniqueid bank_account location_type cellphone_access  \\\n",
       "52    Kenya  2018   uniqueid_53           No         Urban               No   \n",
       "104   Kenya  2018  uniqueid_105          Yes         Urban               No   \n",
       "110   Kenya  2018  uniqueid_111           No         Rural               No   \n",
       "213   Kenya  2018  uniqueid_214           No         Urban              Yes   \n",
       "242   Kenya  2018  uniqueid_243           No         Urban               No   \n",
       "281   Kenya  2018  uniqueid_282           No         Rural               No   \n",
       "311   Kenya  2018  uniqueid_312           No         Rural               No   \n",
       "398   Kenya  2018  uniqueid_399           No         Rural               No   \n",
       "442   Kenya  2018  uniqueid_443           No         Rural               No   \n",
       "447   Kenya  2018  uniqueid_448           No         Rural               No   \n",
       "\n",
       "     household_size  age_of_respondent gender_of_respondent  \\\n",
       "52                5                 16               Female   \n",
       "104               4                 16               Female   \n",
       "110               3                 16               Female   \n",
       "213               6                 16                 Male   \n",
       "242               2                 16                 Male   \n",
       "281               6                 16                 Male   \n",
       "311               7                 16               Female   \n",
       "398               2                 16                 Male   \n",
       "442               8                 16                 Male   \n",
       "447               5                 16                 Male   \n",
       "\n",
       "    relationship_with_head        marital_status      education_level  \\\n",
       "52          Other relative  Single/Never Married    Primary education   \n",
       "104         Other relative  Single/Never Married  Secondary education   \n",
       "110                  Child  Single/Never Married    Primary education   \n",
       "213         Other relative  Single/Never Married  Secondary education   \n",
       "242         Other relative  Single/Never Married  Secondary education   \n",
       "281                  Child  Single/Never Married    Primary education   \n",
       "311                  Child  Single/Never Married    Primary education   \n",
       "398                  Child  Single/Never Married    Primary education   \n",
       "442                  Child  Single/Never Married    Primary education   \n",
       "447                  Child  Single/Never Married  Secondary education   \n",
       "\n",
       "                 job_type  \n",
       "52   Remittance Dependent  \n",
       "104  Remittance Dependent  \n",
       "110  Remittance Dependent  \n",
       "213  Remittance Dependent  \n",
       "242  Remittance Dependent  \n",
       "281          Other Income  \n",
       "311  Remittance Dependent  \n",
       "398  Remittance Dependent  \n",
       "442  Remittance Dependent  \n",
       "447  Remittance Dependent  "
      ]
     },
     "execution_count": 19,
     "metadata": {},
     "output_type": "execute_result"
    }
   ],
   "source": [
    "train.nsmallest(10, 'age_of_respondent')"
   ]
  },
  {
   "cell_type": "markdown",
   "id": "fc211085",
   "metadata": {},
   "source": [
    "<b/>Education"
   ]
  },
  {
   "cell_type": "code",
   "execution_count": 20,
   "id": "ba6d3116",
   "metadata": {},
   "outputs": [
    {
     "data": {
      "text/plain": [
       "Primary education                  12791\n",
       "No formal education                 4515\n",
       "Secondary education                 4223\n",
       "Tertiary education                  1157\n",
       "Vocational/Specialised training      803\n",
       "Other/Dont know/RTA                   35\n",
       "Name: education_level, dtype: int64"
      ]
     },
     "execution_count": 20,
     "metadata": {},
     "output_type": "execute_result"
    }
   ],
   "source": [
    "#Education level distribution among respondents\n",
    "train['education_level'].value_counts()"
   ]
  },
  {
   "cell_type": "code",
   "execution_count": 21,
   "id": "4566e9eb",
   "metadata": {},
   "outputs": [
    {
     "data": {
      "image/png": "[encoded data removed]",
      "text/plain": [
       "<Figure size 576x432 with 1 Axes>"
      ]
     },
     "metadata": {
      "needs_background": "light"
     },
     "output_type": "display_data"
    }
   ],
   "source": [
    "education_levels=train['education_level'].value_counts()\n",
    "\n",
    "plt.figure(figsize=(8, 6))\n",
    "education_levels.plot(kind='bar',color='Maroon')\n",
    "plt.title('Education Level Distribution')\n",
    "plt.xlabel('Education Level')\n",
    "plt.ylabel('Frequency')\n",
    "plt.show()\n"
   ]
  },
  {
   "cell_type": "code",
   "execution_count": 22,
   "id": "ea15260a",
   "metadata": {},
   "outputs": [
    {
     "data": {
      "text/plain": [
       "<Figure size 576x432 with 0 Axes>"
      ]
     },
     "metadata": {},
     "output_type": "display_data"
    },
    {
     "data": {
      "image/png": "[encoded data removed]",
      "text/plain": [
       "<Figure size 576x432 with 1 Axes>"
      ]
     },
     "metadata": {
      "needs_background": "light"
     },
     "output_type": "display_data"
    }
   ],
   "source": [
    "#Education level across different job types\n",
    "\n",
    "\n",
    "# Select the columns of interest\n",
    "subset = train[['job_type', 'education_level']]\n",
    "\n",
    "# Group the data by job type and education level, and count the number of respondents\n",
    "grouped = subset.groupby(['job_type', 'education_level']).size().unstack()\n",
    "\n",
    "# Create the bar plot\n",
    "plt.figure(figsize=(8,6))\n",
    "grouped.plot(kind='bar', stacked=False,figsize=(8,6))\n",
    "\n",
    "# Set labels and title\n",
    "plt.xlabel('Job Type')\n",
    "plt.ylabel('Count')\n",
    "plt.title('Education Level Distribution across Job Types')\n",
    "\n",
    "# Display the legend\n",
    "plt.legend(title='Education Level', loc='center left', bbox_to_anchor=(1, 0.5))\n",
    "\n",
    "# Show the plot\n",
    "plt.show()\n"
   ]
  },
  {
   "cell_type": "code",
   "execution_count": 23,
   "id": "702ec994",
   "metadata": {},
   "outputs": [
    {
     "data": {
      "image/png": "[encoded data removed]",
      "text/plain": [
       "<Figure size 432x288 with 1 Axes>"
      ]
     },
     "metadata": {
      "needs_background": "light"
     },
     "output_type": "display_data"
    }
   ],
   "source": [
    "#Relationship between education and ownership of a bank account\n",
    "\n",
    "# Select the columns of interest\n",
    "group = train[['education_level', 'bank_account']]\n",
    "\n",
    "# Group the data by education level and count the number of respondents with or without a bank account\n",
    "grouped = group.groupby(['education_level', 'bank_account']).size().unstack()\n",
    "\n",
    "# Calculate the percentage of respondents with a bank account within each education level category\n",
    "grouped['With Bank Account (%)'] = (grouped['Yes'] / (grouped['Yes'] + grouped['No'])) * 100\n",
    "\n",
    "# Create the bar plot or pie chart\n",
    "grouped['With Bank Account (%)'].plot(kind='bar')\n",
    "\n",
    "# Set labels and title\n",
    "plt.xlabel('Education Level')\n",
    "plt.ylabel('Percentage with Bank Account')\n",
    "plt.title('Bank Account Ownership by Education Level')\n",
    "\n",
    "# Show the plot\n",
    "plt.show()\n"
   ]
  },
  {
   "cell_type": "markdown",
   "id": "162d41cd",
   "metadata": {},
   "source": [
    "The analysis shows the educated population are the ones who have the highest ownership of bank accounts."
   ]
  },
  {
   "cell_type": "code",
   "execution_count": 24,
   "id": "5b5dc383",
   "metadata": {},
   "outputs": [
    {
     "data": {
      "text/plain": [
       "<Figure size 720x432 with 0 Axes>"
      ]
     },
     "metadata": {},
     "output_type": "display_data"
    },
    {
     "data": {
      "image/png": "[encoded data removed]",
      "text/plain": [
       "<Figure size 720x432 with 1 Axes>"
      ]
     },
     "metadata": {
      "needs_background": "light"
     },
     "output_type": "display_data"
    }
   ],
   "source": [
    "#Relationship between education level and location type in the dataset\n",
    "\n",
    "# Prepare the data\n",
    "education_location_data = train.groupby(['education_level', 'location_type']).size().unstack()\n",
    "\n",
    "# Plot the relationship between education and location type with increased size\n",
    "plt.figure(figsize=(10, 6)) \n",
    "education_location_data.plot(kind='bar', stacked=True, figsize=(10, 6)) \n",
    "\n",
    "# Customize the plot\n",
    "plt.xlabel('Education Level')\n",
    "plt.ylabel('Count')\n",
    "plt.title('Distribution of Education Level by Location Type')\n",
    "plt.legend(title='Location Type', loc='best')\n",
    "\n",
    "\n",
    "# Display the plot\n",
    "plt.tight_layout()\n",
    "plt.show()\n"
   ]
  },
  {
   "cell_type": "code",
   "execution_count": 25,
   "id": "50182e4a",
   "metadata": {},
   "outputs": [
    {
     "name": "stdout",
     "output_type": "stream",
     "text": [
      "education_level                  location_type\n",
      "No formal education              Rural            3162\n",
      "                                 Urban            1353\n",
      "Other/Dont know/RTA              Rural              19\n",
      "                                 Urban              16\n",
      "Primary education                Rural            7899\n",
      "                                 Urban            4892\n",
      "Secondary education              Rural            2384\n",
      "                                 Urban            1839\n",
      "Tertiary education               Rural             495\n",
      "                                 Urban             662\n",
      "Vocational/Specialised training  Rural             384\n",
      "                                 Urban             419\n",
      "dtype: int64\n"
     ]
    }
   ],
   "source": [
    "education_location_counts = train.groupby(['education_level', 'location_type']).size()\n",
    "print(education_location_counts)\n"
   ]
  },
  {
   "cell_type": "markdown",
   "id": "313b1e64",
   "metadata": {},
   "source": [
    "<b/>Cell phones"
   ]
  },
  {
   "cell_type": "code",
   "execution_count": 26,
   "id": "b6d58c54",
   "metadata": {},
   "outputs": [
    {
     "data": {
      "image/png": "[encoded data removed]",
      "text/plain": [
       "<Figure size 720x432 with 1 Axes>"
      ]
     },
     "metadata": {
      "needs_background": "light"
     },
     "output_type": "display_data"
    }
   ],
   "source": [
    "#Analyzing usage of cellphones across different countries in East Africa\n",
    "\n",
    "\n",
    "# Filter relevant columns\n",
    "train_filtered = train[['country', 'cellphone_access']]\n",
    "\n",
    "# Group data by country and cellphone_access\n",
    "filtered= train_filtered.groupby(['country', 'cellphone_access']).size().reset_index(name='count')\n",
    "\n",
    "# Sort the grouped DataFrame in descending order based on the count\n",
    "filtered_sorted = filtered.sort_values(by='count', ascending=False)\n",
    "\n",
    "# Define colors for 'Yes' and 'No' values\n",
    "colors = {'Yes': 'skyblue', 'No': 'lightgreen'}\n",
    "\n",
    "# Create a bar plot\n",
    "fig, ax = plt.subplots(figsize=(10, 6))\n",
    "for i, row in filtered_sorted.iterrows():\n",
    "    ax.bar(row['country'], row['count'], color=colors[row['cellphone_access']])\n",
    "\n",
    "# Add legend\n",
    "legend_labels = [plt.Rectangle((0, 0), 1, 1, color=colors[label]) for label in colors]\n",
    "ax.legend(legend_labels, colors.keys())\n",
    "\n",
    "ax.set_xlabel('Country')\n",
    "ax.set_ylabel('Count')\n",
    "ax.set_title('Usage of Cellphones and Digital Financial Services by Country')\n",
    "plt.xticks(rotation=45)\n",
    "plt.tight_layout()\n",
    "plt.show()\n"
   ]
  },
  {
   "cell_type": "code",
   "execution_count": 27,
   "id": "0a7f5cf7",
   "metadata": {},
   "outputs": [
    {
     "name": "stdout",
     "output_type": "stream",
     "text": [
      "country   cellphone_access\n",
      "Kenya     No                  1283\n",
      "          Yes                 4785\n",
      "Rwanda    No                  1486\n",
      "          Yes                 7249\n",
      "Tanzania  No                  2664\n",
      "          Yes                 3956\n",
      "Uganda    No                   637\n",
      "          Yes                 1464\n",
      "dtype: int64\n"
     ]
    }
   ],
   "source": [
    "cellphone_counts = train.groupby(['country', 'cellphone_access']).size()\n",
    "print(cellphone_counts)"
   ]
  },
  {
   "cell_type": "code",
   "execution_count": 28,
   "id": "eda5e60e",
   "metadata": {},
   "outputs": [
    {
     "data": {
      "image/png": "[encoded data removed]",
      "text/plain": [
       "<Figure size 432x288 with 1 Axes>"
      ]
     },
     "metadata": {
      "needs_background": "light"
     },
     "output_type": "display_data"
    }
   ],
   "source": [
    "#Cellphone Access over time\n",
    "\n",
    "# Prepare the data\n",
    "financial_data = train.groupby('year')['cellphone_access'].value_counts(normalize=True).unstack()\n",
    "\n",
    "# Plot the time-series data\n",
    "financial_data.plot(kind='line', marker='x')\n",
    "\n",
    "# Customize the plot\n",
    "plt.xlabel('Year')\n",
    "plt.ylabel('Cellphone Access Rate')\n",
    "plt.title('Cellphone Access Rate Over Time')\n",
    "plt.legend(title='Cellphone Access', loc='center left', bbox_to_anchor=(1, 0.5))\n",
    "\n",
    "\n",
    "# Adjust x-axis tick labels\n",
    "plt.xticks(rotation=45)\n",
    "\n",
    "# Display the plot\n",
    "plt.tight_layout()\n",
    "plt.show()\n"
   ]
  },
  {
   "cell_type": "code",
   "execution_count": 29,
   "id": "bd0edbe2",
   "metadata": {},
   "outputs": [
    {
     "data": {
      "image/png": "[encoded data removed]",
      "text/plain": [
       "<Figure size 432x288 with 1 Axes>"
      ]
     },
     "metadata": {
      "needs_background": "light"
     },
     "output_type": "display_data"
    }
   ],
   "source": [
    "#Relationship between cellphones and location type\n",
    "\n",
    "# Prepare the data\n",
    "location_data = train.groupby('location_type')['cellphone_access'].value_counts(normalize=True).unstack()\n",
    "\n",
    "# Plot the bar chart\n",
    "location_data.plot(kind='bar', stacked=True)\n",
    "\n",
    "# Customize the plot\n",
    "plt.xlabel('Location Type')\n",
    "plt.ylabel('Proportion of Cellphone Access')\n",
    "plt.title('Cellphone Access by Location Type')\n",
    "plt.legend(title='Cellphone Access',loc='center left', bbox_to_anchor=(1, 0.5) )\n",
    "\n",
    "\n",
    "# Display the plot\n",
    "plt.show()\n"
   ]
  },
  {
   "cell_type": "code",
   "execution_count": 30,
   "id": "d03771db",
   "metadata": {},
   "outputs": [
    {
     "name": "stdout",
     "output_type": "stream",
     "text": [
      "location_type  cellphone_access\n",
      "Rural          No                   3273\n",
      "               Yes                 11070\n",
      "Urban          No                   2797\n",
      "               Yes                  6384\n",
      "dtype: int64\n"
     ]
    }
   ],
   "source": [
    "cellphone_location_counts = train.groupby(['location_type', 'cellphone_access']).size()\n",
    "print(cellphone_location_counts)"
   ]
  },
  {
   "cell_type": "markdown",
   "id": "06fe5fd7",
   "metadata": {},
   "source": [
    "<b/>Bank account"
   ]
  },
  {
   "cell_type": "code",
   "execution_count": 31,
   "id": "a68197ef",
   "metadata": {},
   "outputs": [
    {
     "data": {
      "image/png": "[encoded data removed]",
      "text/plain": [
       "<Figure size 576x432 with 1 Axes>"
      ]
     },
     "metadata": {
      "needs_background": "light"
     },
     "output_type": "display_data"
    }
   ],
   "source": [
    "#Bank account Access over time\n",
    "\n",
    "# Prepare the data\n",
    "bank_data = train.groupby('year')['bank_account'].value_counts(normalize=True).unstack()\n",
    "\n",
    "# Plot the time-series data\n",
    "bank_data.plot(kind='line', marker='o',figsize=(8,6))\n",
    "\n",
    "# Customize the plot\n",
    "plt.xlabel('Year')\n",
    "plt.ylabel('Bank_account Access Rate')\n",
    "plt.title('Bank_account Rate Over Time')\n",
    "plt.legend(title='Bank_account Access', loc='center left', bbox_to_anchor=(1, 0.5))\n",
    "\n",
    "\n",
    "# Adjust x-axis tick labels\n",
    "plt.xticks(rotation=45)\n",
    "\n",
    "# Display the plot\n",
    "plt.tight_layout()\n",
    "plt.show()\n"
   ]
  },
  {
   "cell_type": "code",
   "execution_count": 32,
   "id": "66029769",
   "metadata": {},
   "outputs": [
    {
     "data": {
      "text/plain": [
       "location_type  bank_account\n",
       "Rural          No              12672\n",
       "               Yes              1671\n",
       "Urban          No               7540\n",
       "               Yes              1641\n",
       "Name: bank_account, dtype: int64"
      ]
     },
     "execution_count": 32,
     "metadata": {},
     "output_type": "execute_result"
    }
   ],
   "source": [
    "#Relationship between bank account and location type\n",
    "\n",
    "train.groupby('location_type')['bank_account'].value_counts()"
   ]
  },
  {
   "cell_type": "code",
   "execution_count": null,
   "id": "db418a2b",
   "metadata": {},
   "outputs": [],
   "source": []
  }
 ],
 "metadata": {
  "kernelspec": {
   "display_name": "Python 3 (ipykernel)",
   "language": "python",
   "name": "python3"
  },
  "language_info": {
   "codemirror_mode": {
    "name": "ipython",
    "version": 3
   },
   "file_extension": ".py",
   "mimetype": "text/x-python",
   "name": "python",
   "nbconvert_exporter": "python",
   "pygments_lexer": "ipython3",
   "version": "3.9.12"
  }
 },
 "nbformat": 4,
 "nbformat_minor": 5
}
